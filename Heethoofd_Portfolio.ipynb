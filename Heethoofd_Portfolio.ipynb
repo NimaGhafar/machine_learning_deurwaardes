{
 "cells": [
  {
   "cell_type": "markdown",
   "id": "161be32e",
   "metadata": {},
   "source": [
    "<div style=\"background-color:\t#41e5d3; text-align:center; vertical-align: middle; padding:40px 0; margin-top:30px\">\n",
    "<h1 style=\"color:white\">ML - Verhuuraantallen voorspellen</h1>\n",
    "<b style=\"color:white\">Jasper Duncker, Julia Boschman, Nima Agha Ghafar Hamedani</b>\n",
    "    </div>"
   ]
  },
  {
   "cell_type": "code",
   "execution_count": 1,
   "id": "245130f6",
   "metadata": {},
   "outputs": [],
   "source": [
    "import pandas as pd\n",
    "import numpy as np\n",
    "import seaborn as sns\n",
    "import matplotlib.pyplot as plt\n",
    "\n",
    "# models\n",
    "from sklearn.linear_model import LinearRegression\n",
    "from sklearn.tree import DecisionTreeRegressor\n",
    "from sklearn.ensemble import RandomForestRegressor\n",
    "from sklearn.ensemble import GradientBoostingRegressor\n",
    "from sklearn.ensemble import AdaBoostRegressor\n",
    "\n",
    "# metrics etc\n",
    "from sklearn.metrics import confusion_matrix, classification_report, ConfusionMatrixDisplay\n",
    "from sklearn.model_selection import GridSearchCV, KFold\n",
    "from sklearn.metrics import f1_score\n",
    "from sklearn.model_selection import train_test_split\n",
    "\n",
    "from sklearn.metrics import mean_squared_error\n",
    "from sklearn.metrics import r2_score\n",
    "from sklearn.metrics import mean_absolute_error\n"
   ]
  },
  {
   "cell_type": "markdown",
   "id": "05481e4a",
   "metadata": {},
   "source": [
    "### Bestanden importeren"
   ]
  },
  {
   "cell_type": "code",
   "execution_count": 33,
   "id": "9ed4715b",
   "metadata": {},
   "outputs": [
    {
     "data": {
      "text/plain": [
       "0        2011-01-01 00:00:00\n",
       "1        2011-01-01 01:00:00\n",
       "2        2011-01-01 02:00:00\n",
       "3        2011-01-01 03:00:00\n",
       "4        2011-01-01 04:00:00\n",
       "                ...         \n",
       "16632    2012-11-30 19:00:00\n",
       "16633    2012-11-30 20:00:00\n",
       "16634    2012-11-30 21:00:00\n",
       "16635    2012-11-30 22:00:00\n",
       "16636    2012-11-30 23:00:00\n",
       "Name: date_hour, Length: 16637, dtype: object"
      ]
     },
     "execution_count": 33,
     "metadata": {},
     "output_type": "execute_result"
    }
   ],
   "source": [
    "train = pd.read_csv('train.csv')\n",
    "test = pd.read_csv('test.csv')\n",
    "Xtest = test.drop(['date_hour'],axis=1)\n",
    "train[\"date_hour\"]"
   ]
  },
  {
   "cell_type": "markdown",
   "id": "34a62365",
   "metadata": {},
   "source": [
    "### TimeSeries"
   ]
  },
  {
   "cell_type": "code",
   "execution_count": 41,
   "id": "bf67c4b4",
   "metadata": {},
   "outputs": [
    {
     "data": {
      "text/html": [
       "<div>\n",
       "<style scoped>\n",
       "    .dataframe tbody tr th:only-of-type {\n",
       "        vertical-align: middle;\n",
       "    }\n",
       "\n",
       "    .dataframe tbody tr th {\n",
       "        vertical-align: top;\n",
       "    }\n",
       "\n",
       "    .dataframe thead th {\n",
       "        text-align: right;\n",
       "    }\n",
       "</style>\n",
       "<table border=\"1\" class=\"dataframe\">\n",
       "  <thead>\n",
       "    <tr style=\"text-align: right;\">\n",
       "      <th></th>\n",
       "      <th>date_hour</th>\n",
       "      <th>holiday</th>\n",
       "      <th>weathersit</th>\n",
       "      <th>temp</th>\n",
       "      <th>atemp</th>\n",
       "      <th>hum</th>\n",
       "      <th>windspeed</th>\n",
       "      <th>cnt</th>\n",
       "      <th>hour_of_day</th>\n",
       "      <th>day_of_week</th>\n",
       "      <th>month</th>\n",
       "      <th>year</th>\n",
       "      <th>season</th>\n",
       "      <th>week</th>\n",
       "    </tr>\n",
       "  </thead>\n",
       "  <tbody>\n",
       "    <tr>\n",
       "      <th>0</th>\n",
       "      <td>2011-01-01 00:00:00</td>\n",
       "      <td>0</td>\n",
       "      <td>1</td>\n",
       "      <td>0.24</td>\n",
       "      <td>0.2879</td>\n",
       "      <td>0.81</td>\n",
       "      <td>0.0000</td>\n",
       "      <td>16</td>\n",
       "      <td>0</td>\n",
       "      <td>5</td>\n",
       "      <td>1</td>\n",
       "      <td>2011</td>\n",
       "      <td>Winter</td>\n",
       "      <td>52</td>\n",
       "    </tr>\n",
       "    <tr>\n",
       "      <th>1</th>\n",
       "      <td>2011-01-01 01:00:00</td>\n",
       "      <td>0</td>\n",
       "      <td>1</td>\n",
       "      <td>0.22</td>\n",
       "      <td>0.2727</td>\n",
       "      <td>0.80</td>\n",
       "      <td>0.0000</td>\n",
       "      <td>40</td>\n",
       "      <td>1</td>\n",
       "      <td>5</td>\n",
       "      <td>1</td>\n",
       "      <td>2011</td>\n",
       "      <td>Winter</td>\n",
       "      <td>52</td>\n",
       "    </tr>\n",
       "    <tr>\n",
       "      <th>2</th>\n",
       "      <td>2011-01-01 02:00:00</td>\n",
       "      <td>0</td>\n",
       "      <td>1</td>\n",
       "      <td>0.22</td>\n",
       "      <td>0.2727</td>\n",
       "      <td>0.80</td>\n",
       "      <td>0.0000</td>\n",
       "      <td>32</td>\n",
       "      <td>2</td>\n",
       "      <td>5</td>\n",
       "      <td>1</td>\n",
       "      <td>2011</td>\n",
       "      <td>Winter</td>\n",
       "      <td>52</td>\n",
       "    </tr>\n",
       "    <tr>\n",
       "      <th>3</th>\n",
       "      <td>2011-01-01 03:00:00</td>\n",
       "      <td>0</td>\n",
       "      <td>1</td>\n",
       "      <td>0.24</td>\n",
       "      <td>0.2879</td>\n",
       "      <td>0.75</td>\n",
       "      <td>0.0000</td>\n",
       "      <td>13</td>\n",
       "      <td>3</td>\n",
       "      <td>5</td>\n",
       "      <td>1</td>\n",
       "      <td>2011</td>\n",
       "      <td>Winter</td>\n",
       "      <td>52</td>\n",
       "    </tr>\n",
       "    <tr>\n",
       "      <th>4</th>\n",
       "      <td>2011-01-01 04:00:00</td>\n",
       "      <td>0</td>\n",
       "      <td>1</td>\n",
       "      <td>0.24</td>\n",
       "      <td>0.2879</td>\n",
       "      <td>0.75</td>\n",
       "      <td>0.0000</td>\n",
       "      <td>1</td>\n",
       "      <td>4</td>\n",
       "      <td>5</td>\n",
       "      <td>1</td>\n",
       "      <td>2011</td>\n",
       "      <td>Winter</td>\n",
       "      <td>52</td>\n",
       "    </tr>\n",
       "    <tr>\n",
       "      <th>...</th>\n",
       "      <td>...</td>\n",
       "      <td>...</td>\n",
       "      <td>...</td>\n",
       "      <td>...</td>\n",
       "      <td>...</td>\n",
       "      <td>...</td>\n",
       "      <td>...</td>\n",
       "      <td>...</td>\n",
       "      <td>...</td>\n",
       "      <td>...</td>\n",
       "      <td>...</td>\n",
       "      <td>...</td>\n",
       "      <td>...</td>\n",
       "      <td>...</td>\n",
       "    </tr>\n",
       "    <tr>\n",
       "      <th>16632</th>\n",
       "      <td>2012-11-30 19:00:00</td>\n",
       "      <td>0</td>\n",
       "      <td>1</td>\n",
       "      <td>0.32</td>\n",
       "      <td>0.3485</td>\n",
       "      <td>0.66</td>\n",
       "      <td>0.0000</td>\n",
       "      <td>377</td>\n",
       "      <td>19</td>\n",
       "      <td>4</td>\n",
       "      <td>11</td>\n",
       "      <td>2012</td>\n",
       "      <td>Herfst</td>\n",
       "      <td>48</td>\n",
       "    </tr>\n",
       "    <tr>\n",
       "      <th>16633</th>\n",
       "      <td>2012-11-30 20:00:00</td>\n",
       "      <td>0</td>\n",
       "      <td>1</td>\n",
       "      <td>0.32</td>\n",
       "      <td>0.3485</td>\n",
       "      <td>0.66</td>\n",
       "      <td>0.0000</td>\n",
       "      <td>245</td>\n",
       "      <td>20</td>\n",
       "      <td>4</td>\n",
       "      <td>11</td>\n",
       "      <td>2012</td>\n",
       "      <td>Herfst</td>\n",
       "      <td>48</td>\n",
       "    </tr>\n",
       "    <tr>\n",
       "      <th>16634</th>\n",
       "      <td>2012-11-30 21:00:00</td>\n",
       "      <td>0</td>\n",
       "      <td>1</td>\n",
       "      <td>0.30</td>\n",
       "      <td>0.3182</td>\n",
       "      <td>0.75</td>\n",
       "      <td>0.0896</td>\n",
       "      <td>183</td>\n",
       "      <td>21</td>\n",
       "      <td>4</td>\n",
       "      <td>11</td>\n",
       "      <td>2012</td>\n",
       "      <td>Herfst</td>\n",
       "      <td>48</td>\n",
       "    </tr>\n",
       "    <tr>\n",
       "      <th>16635</th>\n",
       "      <td>2012-11-30 22:00:00</td>\n",
       "      <td>0</td>\n",
       "      <td>1</td>\n",
       "      <td>0.30</td>\n",
       "      <td>0.3333</td>\n",
       "      <td>0.75</td>\n",
       "      <td>0.0000</td>\n",
       "      <td>163</td>\n",
       "      <td>22</td>\n",
       "      <td>4</td>\n",
       "      <td>11</td>\n",
       "      <td>2012</td>\n",
       "      <td>Herfst</td>\n",
       "      <td>48</td>\n",
       "    </tr>\n",
       "    <tr>\n",
       "      <th>16636</th>\n",
       "      <td>2012-11-30 23:00:00</td>\n",
       "      <td>0</td>\n",
       "      <td>2</td>\n",
       "      <td>0.30</td>\n",
       "      <td>0.3182</td>\n",
       "      <td>0.75</td>\n",
       "      <td>0.0896</td>\n",
       "      <td>110</td>\n",
       "      <td>23</td>\n",
       "      <td>4</td>\n",
       "      <td>11</td>\n",
       "      <td>2012</td>\n",
       "      <td>Herfst</td>\n",
       "      <td>48</td>\n",
       "    </tr>\n",
       "  </tbody>\n",
       "</table>\n",
       "<p>16637 rows × 14 columns</p>\n",
       "</div>"
      ],
      "text/plain": [
       "                date_hour  holiday  weathersit  temp   atemp   hum  windspeed  \\\n",
       "0     2011-01-01 00:00:00        0           1  0.24  0.2879  0.81     0.0000   \n",
       "1     2011-01-01 01:00:00        0           1  0.22  0.2727  0.80     0.0000   \n",
       "2     2011-01-01 02:00:00        0           1  0.22  0.2727  0.80     0.0000   \n",
       "3     2011-01-01 03:00:00        0           1  0.24  0.2879  0.75     0.0000   \n",
       "4     2011-01-01 04:00:00        0           1  0.24  0.2879  0.75     0.0000   \n",
       "...                   ...      ...         ...   ...     ...   ...        ...   \n",
       "16632 2012-11-30 19:00:00        0           1  0.32  0.3485  0.66     0.0000   \n",
       "16633 2012-11-30 20:00:00        0           1  0.32  0.3485  0.66     0.0000   \n",
       "16634 2012-11-30 21:00:00        0           1  0.30  0.3182  0.75     0.0896   \n",
       "16635 2012-11-30 22:00:00        0           1  0.30  0.3333  0.75     0.0000   \n",
       "16636 2012-11-30 23:00:00        0           2  0.30  0.3182  0.75     0.0896   \n",
       "\n",
       "       cnt  hour_of_day  day_of_week  month  year  season  week  \n",
       "0       16            0            5      1  2011  Winter    52  \n",
       "1       40            1            5      1  2011  Winter    52  \n",
       "2       32            2            5      1  2011  Winter    52  \n",
       "3       13            3            5      1  2011  Winter    52  \n",
       "4        1            4            5      1  2011  Winter    52  \n",
       "...    ...          ...          ...    ...   ...     ...   ...  \n",
       "16632  377           19            4     11  2012  Herfst    48  \n",
       "16633  245           20            4     11  2012  Herfst    48  \n",
       "16634  183           21            4     11  2012  Herfst    48  \n",
       "16635  163           22            4     11  2012  Herfst    48  \n",
       "16636  110           23            4     11  2012  Herfst    48  \n",
       "\n",
       "[16637 rows x 14 columns]"
      ]
     },
     "execution_count": 41,
     "metadata": {},
     "output_type": "execute_result"
    }
   ],
   "source": [
    "import pandas as pd\n",
    "train['date_hour'] = pd.to_datetime(train['date_hour'])\n",
    "\n",
    "# Voeg dag, week, maand, jaar\n",
    "train['hour_of_day'] = train['date_hour'].dt.hour #Het uur van de dag (0-23).\n",
    "train['day_of_week'] = train['date_hour'].dt.dayofweek #De dag van de week (maandag is 0, zondag is 6).\n",
    "train['week'] = train['date_hour'].dt.isocalendar().week #De weken\n",
    "train['month'] = train['date_hour'].dt.month\n",
    "train['year'] = train['date_hour'].dt.year\n",
    "\n",
    "#Time series / date functionality — pandas 2.1.1 documentation. (n.d.). https://pandas.pydata.org/docs/user_guide/timeseries.html\n",
    "\n",
    "def get_season(month):\n",
    "    if month in [3, 4, 5]:  \n",
    "        return \"Lente\"\n",
    "    elif month in [6, 7, 8]:  \n",
    "        return \"Zomer\"\n",
    "    elif month in [9, 10, 11]:\n",
    "        return \"Herfst\"\n",
    "    else: \n",
    "        return \"Winter\"\n",
    "\n",
    "train['season'] = train['month'].apply(get_season)\n",
    "\n",
    "train\n",
    "\n"
   ]
  },
  {
   "cell_type": "code",
   "execution_count": 46,
   "id": "455beead",
   "metadata": {},
   "outputs": [
    {
     "data": {
      "image/png": "[encoded data removed]",
      "text/plain": [
       "<Figure size 864x432 with 1 Axes>"
      ]
     },
     "metadata": {
      "needs_background": "light"
     },
     "output_type": "display_data"
    }
   ],
   "source": [
    "import pandas as pd\n",
    "import matplotlib.pyplot as plt\n",
    "\n",
    "\n",
    "#Invloed van vakantie op het gemiddelde aantal\n",
    "holiday_data = train[train['holiday'] == 1]\n",
    "non_holiday_data = train[train['holiday'] == 0]\n",
    "holiday_avg = holiday_data['cnt'].mean()\n",
    "non_holiday_avg = non_holiday_data['cnt'].mean()\n",
    "\n",
    "plt.figure(figsize=(12, 6))\n",
    "plt.subplot(121)\n",
    "plt.bar(['Vakantie', 'Geen Vakantie'], [holiday_avg, non_holiday_avg])\n",
    "plt.xlabel('Periode')\n",
    "plt.ylabel('Gemiddeld aantal')\n",
    "plt.title('Invloed van vakantie op het gemiddelde aantal')\n",
    "\n",
    "\n",
    "plt.tight_layout()\n",
    "plt.show()\n"
   ]
  },
  {
   "cell_type": "code",
   "execution_count": 58,
   "id": "39497f50",
   "metadata": {},
   "outputs": [
    {
     "data": {
      "image/png": "[encoded data removed]",
      "text/plain": [
       "<Figure size 1152x360 with 1 Axes>"
      ]
     },
     "metadata": {
      "needs_background": "light"
     },
     "output_type": "display_data"
    },
    {
     "data": {
      "image/png": "[encoded data removed]",
      "text/plain": [
       "<Figure size 864x288 with 1 Axes>"
      ]
     },
     "metadata": {
      "needs_background": "light"
     },
     "output_type": "display_data"
    },
    {
     "data": {
      "image/png": "[encoded data removed]",
      "text/plain": [
       "<Figure size 1152x432 with 1 Axes>"
      ]
     },
     "metadata": {
      "needs_background": "light"
     },
     "output_type": "display_data"
    },
    {
     "data": {
      "image/png": "[encoded data removed]",
      "text/plain": [
       "<Figure size 1152x432 with 1 Axes>"
      ]
     },
     "metadata": {
      "needs_background": "light"
     },
     "output_type": "display_data"
    }
   ],
   "source": [
    "\n",
    "# Tweede grafiek: Invloed van het uur van de dag op verkoopcijfers\n",
    "hourly_avg = train.groupby('hour_of_day')['cnt'].mean()\n",
    "plt.figure(figsize=(16, 5))\n",
    "plt.subplot(122)\n",
    "plt.plot(hourly_avg.index, hourly_avg.values, marker='o')\n",
    "plt.xlabel('Uur van de dag')\n",
    "plt.ylabel('Gemiddeld aantal verkochte producten')\n",
    "plt.title('Invloed van het uur van de dag op verkoopcijfers')\n",
    "plt.xticks(range(24))\n",
    "plt.grid(True)\n",
    "\n",
    "# Invloed van de dag van de week op de verkoop\n",
    "\n",
    "day_of_week_avg = train.groupby('day_of_week')['cnt'].mean()\n",
    "plt.figure(figsize=(12, 4))\n",
    "plt.subplot(122)\n",
    "plt.bar(day_of_week_avg.index, day_of_week_avg.values)\n",
    "plt.xlabel('Dag van de week')\n",
    "plt.ylabel('Gemiddeld aantal verkochte producten')\n",
    "plt.title('Invloed van de dag van de week')\n",
    "\n",
    "# Invloed van de weekdag op de verkoop\n",
    "plt.figure(figsize=(16, 6))\n",
    "\n",
    "weekday_avg = train.groupby('week')['cnt'].mean()\n",
    "plt.subplot(122)\n",
    "plt.bar(weekday_avg.index, weekday_avg.values)\n",
    "plt.xlabel('Week')\n",
    "plt.ylabel('Gemiddeld aantal verkochte producten')\n",
    "plt.title('Invloed van de weekdag')\n",
    "\n",
    "# Invloed van de maand op de verkoop\n",
    "plt.figure(figsize=(16, 6))\n",
    "\n",
    "month_avg = train.groupby('month')['cnt'].mean()\n",
    "plt.subplot(122)\n",
    "plt.bar(month_avg.index, month_avg.values)\n",
    "plt.xlabel('Maand')\n",
    "plt.ylabel('Gemiddeld aantal verkochte producten')\n",
    "plt.title('Invloed van de maand')\n",
    "\n",
    "plt.tight_layout()\n",
    "plt.show()\n"
   ]
  },
  {
   "cell_type": "markdown",
   "id": "106d024b",
   "metadata": {},
   "source": [
    "### EDA"
   ]
  },
  {
   "cell_type": "code",
   "execution_count": 3,
   "id": "da24e5af",
   "metadata": {},
   "outputs": [
    {
     "data": {
      "image/png": "[encoded data removed]",
      "text/plain": [
       "<Figure size 1152x432 with 4 Axes>"
      ]
     },
     "metadata": {
      "needs_background": "light"
     },
     "output_type": "display_data"
    }
   ],
   "source": [
    "plt.figure(figsize=(16, 6))\n",
    "plt.subplot(121)  \n",
    "heatmap1 = sns.heatmap(train.corr(method='pearson')[['cnt']].sort_values(by='cnt', ascending=False),\n",
    "                       vmin=-1, vmax=1, annot=True, cmap='RdYlGn')\n",
    "heatmap1.set_title('Correlatie cnt', fontdict={'fontsize': 12}, pad=12)\n",
    "\n",
    "\n",
    "plt.subplot(122) \n",
    "heatmap2 = sns.heatmap(train.corr(method='pearson'), vmin=-1, vmax=1, annot=True, cmap='RdYlGn')\n",
    "heatmap2.set_title('Correlatie tussen alle kolommen in train', fontdict={'fontsize': 12}, pad=12)\n",
    "\n",
    "plt.tight_layout()  \n",
    "plt.show()"
   ]
  },
  {
   "cell_type": "markdown",
   "id": "608ae406",
   "metadata": {},
   "source": [
    "### Metric Functie"
   ]
  },
  {
   "cell_type": "code",
   "execution_count": 4,
   "id": "7337d98a",
   "metadata": {},
   "outputs": [],
   "source": [
    "def train_test_model(model):\n",
    "    \"\"\"\n",
    "    Traint het opgegeven model met behulp van de meegeleverde trainingsgegevens en evalueert het met de testgegevens.\n",
    "\n",
    "    Parameters:\n",
    "    ----------\n",
    "    model : model vergelijkbaar met sklearn\n",
    "        Het model dat getraind en geëvalueerd moet worden.\n",
    "    \n",
    "    Returns:\n",
    "    -------\n",
    "    RMSE :\n",
    "        Deze functie drukt de RMSE score van het model op de testgegevens af.\n",
    "    \n",
    "        \n",
    "    \"\"\"\n",
    "\n",
    "    model.fit(X_train,y_train)\n",
    "    y_pred= model.predict(X_test)\n",
    "    MSE = mean_squared_error(y_test, y_pred)\n",
    "    RMSE = MSE**0.5\n",
    "    R2 = r2_score(y_test, y_pred)\n",
    "    MAE = mean_absolute_error(y_test, y_pred)\n",
    "    return print('R2:',R2,\n",
    "                 '\\nMAE:', MAE,\n",
    "                 '\\nMSE:',MSE,\n",
    "                 '\\nRMSE:',RMSE)"
   ]
  },
  {
   "cell_type": "markdown",
   "id": "7ea14a93",
   "metadata": {},
   "source": [
    "### Train, test, split"
   ]
  },
  {
   "cell_type": "code",
   "execution_count": 5,
   "id": "d17ad55a",
   "metadata": {},
   "outputs": [],
   "source": [
    "from sklearn.model_selection import train_test_split\n",
    "X = train.drop(['date_hour','cnt'],axis=1)\n",
    "y = train['cnt']\n",
    "\n",
    "X_train, X_test, y_train, y_test = train_test_split(X, y, test_size=0.33, random_state=27)"
   ]
  },
  {
   "cell_type": "markdown",
   "id": "78a48beb",
   "metadata": {},
   "source": [
    "### LinearReg"
   ]
  },
  {
   "cell_type": "code",
   "execution_count": 6,
   "id": "d2a9fe5d",
   "metadata": {},
   "outputs": [
    {
     "name": "stdout",
     "output_type": "stream",
     "text": [
      "R2: 0.26574843016938676 \n",
      "MAE: 115.33913243900095 \n",
      "MSE: 23816.522099910337 \n",
      "RMSE: 154.3260253486441\n"
     ]
    }
   ],
   "source": [
    "from sklearn.linear_model import LinearRegression\n",
    "lin_reg = LinearRegression()\n",
    "\n",
    "train_test_model(lin_reg)\n",
    "lin_reg_pred = lin_reg.predict(Xtest)\n"
   ]
  },
  {
   "cell_type": "markdown",
   "id": "b87a7577",
   "metadata": {},
   "source": [
    "### Randomforest"
   ]
  },
  {
   "cell_type": "code",
   "execution_count": null,
   "id": "1c8af00e",
   "metadata": {},
   "outputs": [],
   "source": []
  },
  {
   "cell_type": "markdown",
   "id": "e043033f",
   "metadata": {},
   "source": [
    "### Pushen Kaggle"
   ]
  },
  {
   "cell_type": "code",
   "execution_count": 19,
   "id": "d83f51d0",
   "metadata": {},
   "outputs": [],
   "source": [
    "def push_dataframe(p_id_values, predictions_values, push=True, csv_file_path=None):\n",
    "    \"\"\"\n",
    "    Creëert een DataFrame met kolommen 'p_id' en 'predictions' en slaat het op naar een CSV-bestand (optioneel).\n",
    "\n",
    "    Args:\n",
    "        p_id_values (list): Een lijst met waarden voor de 'p_id'-kolom.\n",
    "        predictions_values (list): Een lijst met waarden voor de 'predictions'-kolom.\n",
    "        push (bool): Een boolean die aangeeft of het DataFrame moet worden opgeslagen naar een CSV-bestand.\n",
    "        csv_file_path (str): Het pad naar het CSV-bestand waarin het DataFrame moet worden opgeslagen (alleen nodig als push=True).\n",
    "\n",
    "    Returns:\n",
    "        pd.DataFrame: Een DataFrame met de opgegeven kolommen.\n",
    "    \"\"\"\n",
    "    \n",
    "    # Flatten the predictions_values array if it's 2D\n",
    "    if len(predictions_values.shape) > 1:\n",
    "        predictions_values = predictions_values.flatten()\n",
    "        \n",
    "    data = {'date_hour': p_id_values, 'cnt': predictions_values}\n",
    "    df = pd.DataFrame(data)\n",
    "    \n",
    "    if push and csv_file_path:\n",
    "        df.to_csv(csv_file_path, index=False)\n",
    "        print(f\"CSV file '{csv_file_path}' has been created.\")\n",
    "    \n",
    "    return df"
   ]
  },
  {
   "cell_type": "code",
   "execution_count": 20,
   "id": "41b7febe",
   "metadata": {},
   "outputs": [
    {
     "name": "stdout",
     "output_type": "stream",
     "text": [
      "CSV file 'C:\\Users\\nimaa\\2023-2024\\machine_learning\\portfolio\\Portfolio Deurwaardes\\kaggle_sub\\lin_reg_pred.csv' has been created.\n"
     ]
    },
    {
     "data": {
      "text/html": [
       "<div>\n",
       "<style scoped>\n",
       "    .dataframe tbody tr th:only-of-type {\n",
       "        vertical-align: middle;\n",
       "    }\n",
       "\n",
       "    .dataframe tbody tr th {\n",
       "        vertical-align: top;\n",
       "    }\n",
       "\n",
       "    .dataframe thead th {\n",
       "        text-align: right;\n",
       "    }\n",
       "</style>\n",
       "<table border=\"1\" class=\"dataframe\">\n",
       "  <thead>\n",
       "    <tr style=\"text-align: right;\">\n",
       "      <th></th>\n",
       "      <th>date_hour</th>\n",
       "      <th>cnt</th>\n",
       "    </tr>\n",
       "  </thead>\n",
       "  <tbody>\n",
       "    <tr>\n",
       "      <th>0</th>\n",
       "      <td>2012-12-01 00:00:00</td>\n",
       "      <td>47.597274</td>\n",
       "    </tr>\n",
       "    <tr>\n",
       "      <th>1</th>\n",
       "      <td>2012-12-01 01:00:00</td>\n",
       "      <td>47.597274</td>\n",
       "    </tr>\n",
       "    <tr>\n",
       "      <th>2</th>\n",
       "      <td>2012-12-01 02:00:00</td>\n",
       "      <td>54.376420</td>\n",
       "    </tr>\n",
       "    <tr>\n",
       "      <th>3</th>\n",
       "      <td>2012-12-01 03:00:00</td>\n",
       "      <td>49.224786</td>\n",
       "    </tr>\n",
       "    <tr>\n",
       "      <th>4</th>\n",
       "      <td>2012-12-01 04:00:00</td>\n",
       "      <td>45.748686</td>\n",
       "    </tr>\n",
       "    <tr>\n",
       "      <th>...</th>\n",
       "      <td>...</td>\n",
       "      <td>...</td>\n",
       "    </tr>\n",
       "    <tr>\n",
       "      <th>451</th>\n",
       "      <td>2012-12-19 19:00:00</td>\n",
       "      <td>190.899991</td>\n",
       "    </tr>\n",
       "    <tr>\n",
       "      <th>452</th>\n",
       "      <td>2012-12-19 20:00:00</td>\n",
       "      <td>149.103906</td>\n",
       "    </tr>\n",
       "    <tr>\n",
       "      <th>453</th>\n",
       "      <td>2012-12-19 21:00:00</td>\n",
       "      <td>125.979449</td>\n",
       "    </tr>\n",
       "    <tr>\n",
       "      <th>454</th>\n",
       "      <td>2012-12-19 22:00:00</td>\n",
       "      <td>131.131082</td>\n",
       "    </tr>\n",
       "    <tr>\n",
       "      <th>455</th>\n",
       "      <td>2012-12-19 23:00:00</td>\n",
       "      <td>111.187019</td>\n",
       "    </tr>\n",
       "  </tbody>\n",
       "</table>\n",
       "<p>456 rows × 2 columns</p>\n",
       "</div>"
      ],
      "text/plain": [
       "               date_hour         cnt\n",
       "0    2012-12-01 00:00:00   47.597274\n",
       "1    2012-12-01 01:00:00   47.597274\n",
       "2    2012-12-01 02:00:00   54.376420\n",
       "3    2012-12-01 03:00:00   49.224786\n",
       "4    2012-12-01 04:00:00   45.748686\n",
       "..                   ...         ...\n",
       "451  2012-12-19 19:00:00  190.899991\n",
       "452  2012-12-19 20:00:00  149.103906\n",
       "453  2012-12-19 21:00:00  125.979449\n",
       "454  2012-12-19 22:00:00  131.131082\n",
       "455  2012-12-19 23:00:00  111.187019\n",
       "\n",
       "[456 rows x 2 columns]"
      ]
     },
     "execution_count": 20,
     "metadata": {},
     "output_type": "execute_result"
    }
   ],
   "source": [
    "csv_file_path = r'C:\\Users\\nimaa\\2023-2024\\machine_learning\\portfolio\\Portfolio Deurwaardes\\kaggle_sub\\lin_reg_pred.csv'\n",
    "\n",
    "#parameters\n",
    "id_values = test['date_hour'] # niet veranderen\n",
    "predictions_values = lin_reg_pred #predictions van model\n",
    "\n",
    "# push functie toepassen\n",
    "push_dataframe(id_values, predictions_values, push=True, csv_file_path=csv_file_path)"
   ]
  }
 ],
 "metadata": {
  "kernelspec": {
   "display_name": "Python 3 (ipykernel)",
   "language": "python",
   "name": "python3"
  },
  "language_info": {
   "codemirror_mode": {
    "name": "ipython",
    "version": 3
   },
   "file_extension": ".py",
   "mimetype": "text/x-python",
   "name": "python",
   "nbconvert_exporter": "python",
   "pygments_lexer": "ipython3",
   "version": "3.9.12"
  }
 },
 "nbformat": 4,
 "nbformat_minor": 5
}
